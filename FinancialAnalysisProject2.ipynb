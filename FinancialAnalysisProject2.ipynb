{
 "cells": [
  {
   "cell_type": "markdown",
   "metadata": {},
   "source": [
    "# Financial: Analysis on Customer data"
   ]
  },
  {
   "cell_type": "markdown",
   "metadata": {},
   "source": [
    "# Business Objective & Understanding"
   ]
  },
  {
   "cell_type": "markdown",
   "metadata": {},
   "source": [
    "Customer satisfaction raises the lifetime value of your clients and increases the sales. It also assists you in developing fantastic relationships with your clients.We’ve always heard that the easiest way to expand a company is to keep current clients and then acquire new ones. As a result, most businesses place a premium on maintaining loyal clients and expanding their reach through the cross-sale of other brands. The project's business goal is to assess the success rate of consumer satisfaction by direct marketing efforts conducted by the Portuguese bank to which this data set relates. If a bank can foresee which consumers are more likely to sign up for a new program, they can boost their chances of success (here the program is term deposit)."
   ]
  },
  {
   "cell_type": "markdown",
   "metadata": {},
   "source": [
    "# Data Understanding"
   ]
  },
  {
   "cell_type": "markdown",
   "metadata": {},
   "source": [
    "The data set consists of direct marketing campaigning results from a Portuguese bank. The direct campaigning involves their existing customers that have either an account with some balance or personal loan or a housing loan. The data set includes the demographic information about such customers like their job status, marital status, educational details. It also includes direct call campaigning details like contact type, day & month of contact, how long the telephonic conversation took place along with previous campaigning results. As data set involves, only phone calls my research includes the effectiveness of the direct marketing campaign. \n",
    "Data set is available at the link - https://www.openml.org/d/1461\n"
   ]
  },
  {
   "cell_type": "code",
   "execution_count": 204,
   "metadata": {},
   "outputs": [],
   "source": [
    "# Import required modules"
   ]
  },
  {
   "cell_type": "code",
   "execution_count": 205,
   "metadata": {},
   "outputs": [],
   "source": [
    "# Importing required modules\n",
    "\n",
    "import pandas as pd\n",
    "import numpy as np\n",
    "\n",
    "from sklearn.ensemble import ExtraTreesClassifier\n",
    "from sklearn.ensemble import RandomForestClassifier\n",
    "from sklearn.preprocessing import StandardScaler\n",
    "from sklearn.model_selection import train_test_split\n",
    "\n",
    "# for measuring accuracy, precision, recall, f1 and auc scores\n",
    "from sklearn.metrics import accuracy_score,precision_score, recall_score, f1_score, roc_auc_score\n",
    "from sklearn.model_selection import cross_val_score\n",
    "from sklearn.metrics import classification_report\n",
    "from sklearn.metrics import roc_curve, auc\n",
    "from sklearn.metrics import confusion_matrix\n",
    "\n",
    "\n",
    "from sklearn.model_selection import GridSearchCV\n",
    "from sklearn.model_selection import RandomizedSearchCV\n",
    "\n",
    "# for model deployment\n",
    "import joblib\n",
    "\n",
    "import matplotlib.pyplot as plt\n",
    "import seaborn as sns\n",
    "get_ipython().run_line_magic('matplotlib', 'inline')"
   ]
  },
  {
   "cell_type": "code",
   "execution_count": null,
   "metadata": {},
   "outputs": [],
   "source": [
    "# Importing Data Set"
   ]
  },
  {
   "cell_type": "code",
   "execution_count": null,
   "metadata": {},
   "outputs": [],
   "source": [
    "# creating data file directory\n",
    "import os\n",
    "cwd = os.getcwd()\n",
    "print(cwd)\n",
    "\n",
    "datadir = os.path.join(cwd, 'Data')\n",
    "datadirfile = os.path.join(datadir, 'bank-marketing.csv')\n",
    "print(datadirfile)"
   ]
  },
  {
   "cell_type": "code",
   "execution_count": null,
   "metadata": {},
   "outputs": [],
   "source": [
    "# importing data\n",
    "\n",
    "bankdf = pd.read_csv(datadirfile)\n",
    "bankdf.head()"
   ]
  },
  {
   "cell_type": "code",
   "execution_count": 186,
   "metadata": {},
   "outputs": [],
   "source": [
    "# Exploratory Data Analysis"
   ]
  },
  {
   "cell_type": "code",
   "execution_count": 187,
   "metadata": {},
   "outputs": [
    {
     "name": "stdout",
     "output_type": "stream",
     "text": [
      "<class 'pandas.core.frame.DataFrame'>\n",
      "RangeIndex: 45211 entries, 0 to 45210\n",
      "Data columns (total 17 columns):\n",
      " #   Column          Non-Null Count  Dtype \n",
      "---  ------          --------------  ----- \n",
      " 0   age             45211 non-null  int64 \n",
      " 1   job             45211 non-null  object\n",
      " 2   marital_status  45211 non-null  object\n",
      " 3   education       45211 non-null  object\n",
      " 4   default         45211 non-null  object\n",
      " 5   balance         45211 non-null  int64 \n",
      " 6   housing         45211 non-null  object\n",
      " 7   loan            45211 non-null  object\n",
      " 8   contact         45211 non-null  object\n",
      " 9   day             45211 non-null  int64 \n",
      " 10  month           45211 non-null  object\n",
      " 11  duration        45211 non-null  int64 \n",
      " 12  campaign        45211 non-null  int64 \n",
      " 13  pdays           45211 non-null  int64 \n",
      " 14  previous        45211 non-null  int64 \n",
      " 15  poutcome        45211 non-null  object\n",
      " 16  class           45211 non-null  int64 \n",
      "dtypes: int64(8), object(9)\n",
      "memory usage: 5.9+ MB\n"
     ]
    }
   ],
   "source": [
    "bankdf.info()"
   ]
  },
  {
   "cell_type": "code",
   "execution_count": 188,
   "metadata": {},
   "outputs": [],
   "source": [
    "# Renaming columns appropriately\n",
    "bankdf.columns = ['age',\n",
    "'job',\n",
    "'marital_status',\n",
    "'education',\n",
    "'default',\n",
    "'balance',\n",
    "'housing',\n",
    "'loan',\n",
    "'contact',\n",
    "'day',\n",
    "'month',\n",
    "'duration',\n",
    "'campaign',\n",
    "'pdays',\n",
    "'previous',\n",
    "'poutcome',\n",
    "'class']\n"
   ]
  },
  {
   "cell_type": "code",
   "execution_count": 189,
   "metadata": {},
   "outputs": [
    {
     "data": {
      "text/html": [
       "<div>\n",
       "<style scoped>\n",
       "    .dataframe tbody tr th:only-of-type {\n",
       "        vertical-align: middle;\n",
       "    }\n",
       "\n",
       "    .dataframe tbody tr th {\n",
       "        vertical-align: top;\n",
       "    }\n",
       "\n",
       "    .dataframe thead th {\n",
       "        text-align: right;\n",
       "    }\n",
       "</style>\n",
       "<table border=\"1\" class=\"dataframe\">\n",
       "  <thead>\n",
       "    <tr style=\"text-align: right;\">\n",
       "      <th></th>\n",
       "      <th>age</th>\n",
       "      <th>job</th>\n",
       "      <th>marital_status</th>\n",
       "      <th>education</th>\n",
       "      <th>default</th>\n",
       "      <th>balance</th>\n",
       "      <th>housing</th>\n",
       "      <th>loan</th>\n",
       "      <th>contact</th>\n",
       "      <th>day</th>\n",
       "      <th>month</th>\n",
       "      <th>duration</th>\n",
       "      <th>campaign</th>\n",
       "      <th>pdays</th>\n",
       "      <th>previous</th>\n",
       "      <th>poutcome</th>\n",
       "      <th>class</th>\n",
       "    </tr>\n",
       "  </thead>\n",
       "  <tbody>\n",
       "    <tr>\n",
       "      <th>0</th>\n",
       "      <td>58</td>\n",
       "      <td>management</td>\n",
       "      <td>married</td>\n",
       "      <td>tertiary</td>\n",
       "      <td>no</td>\n",
       "      <td>2143</td>\n",
       "      <td>yes</td>\n",
       "      <td>no</td>\n",
       "      <td>unknown</td>\n",
       "      <td>5</td>\n",
       "      <td>may</td>\n",
       "      <td>261</td>\n",
       "      <td>1</td>\n",
       "      <td>-1</td>\n",
       "      <td>0</td>\n",
       "      <td>unknown</td>\n",
       "      <td>0</td>\n",
       "    </tr>\n",
       "    <tr>\n",
       "      <th>1</th>\n",
       "      <td>44</td>\n",
       "      <td>technician</td>\n",
       "      <td>single</td>\n",
       "      <td>secondary</td>\n",
       "      <td>no</td>\n",
       "      <td>29</td>\n",
       "      <td>yes</td>\n",
       "      <td>no</td>\n",
       "      <td>unknown</td>\n",
       "      <td>5</td>\n",
       "      <td>may</td>\n",
       "      <td>151</td>\n",
       "      <td>1</td>\n",
       "      <td>-1</td>\n",
       "      <td>0</td>\n",
       "      <td>unknown</td>\n",
       "      <td>0</td>\n",
       "    </tr>\n",
       "    <tr>\n",
       "      <th>2</th>\n",
       "      <td>33</td>\n",
       "      <td>entrepreneur</td>\n",
       "      <td>married</td>\n",
       "      <td>secondary</td>\n",
       "      <td>no</td>\n",
       "      <td>2</td>\n",
       "      <td>yes</td>\n",
       "      <td>yes</td>\n",
       "      <td>unknown</td>\n",
       "      <td>5</td>\n",
       "      <td>may</td>\n",
       "      <td>76</td>\n",
       "      <td>1</td>\n",
       "      <td>-1</td>\n",
       "      <td>0</td>\n",
       "      <td>unknown</td>\n",
       "      <td>0</td>\n",
       "    </tr>\n",
       "    <tr>\n",
       "      <th>3</th>\n",
       "      <td>47</td>\n",
       "      <td>blue-collar</td>\n",
       "      <td>married</td>\n",
       "      <td>unknown</td>\n",
       "      <td>no</td>\n",
       "      <td>1506</td>\n",
       "      <td>yes</td>\n",
       "      <td>no</td>\n",
       "      <td>unknown</td>\n",
       "      <td>5</td>\n",
       "      <td>may</td>\n",
       "      <td>92</td>\n",
       "      <td>1</td>\n",
       "      <td>-1</td>\n",
       "      <td>0</td>\n",
       "      <td>unknown</td>\n",
       "      <td>0</td>\n",
       "    </tr>\n",
       "    <tr>\n",
       "      <th>4</th>\n",
       "      <td>33</td>\n",
       "      <td>unknown</td>\n",
       "      <td>single</td>\n",
       "      <td>unknown</td>\n",
       "      <td>no</td>\n",
       "      <td>1</td>\n",
       "      <td>no</td>\n",
       "      <td>no</td>\n",
       "      <td>unknown</td>\n",
       "      <td>5</td>\n",
       "      <td>may</td>\n",
       "      <td>198</td>\n",
       "      <td>1</td>\n",
       "      <td>-1</td>\n",
       "      <td>0</td>\n",
       "      <td>unknown</td>\n",
       "      <td>0</td>\n",
       "    </tr>\n",
       "  </tbody>\n",
       "</table>\n",
       "</div>"
      ],
      "text/plain": [
       "   age           job marital_status  education default  balance housing loan  \\\n",
       "0   58    management        married   tertiary      no     2143     yes   no   \n",
       "1   44    technician         single  secondary      no       29     yes   no   \n",
       "2   33  entrepreneur        married  secondary      no        2     yes  yes   \n",
       "3   47   blue-collar        married    unknown      no     1506     yes   no   \n",
       "4   33       unknown         single    unknown      no        1      no   no   \n",
       "\n",
       "   contact  day month  duration  campaign  pdays  previous poutcome  class  \n",
       "0  unknown    5   may       261         1     -1         0  unknown      0  \n",
       "1  unknown    5   may       151         1     -1         0  unknown      0  \n",
       "2  unknown    5   may        76         1     -1         0  unknown      0  \n",
       "3  unknown    5   may        92         1     -1         0  unknown      0  \n",
       "4  unknown    5   may       198         1     -1         0  unknown      0  "
      ]
     },
     "execution_count": 189,
     "metadata": {},
     "output_type": "execute_result"
    }
   ],
   "source": [
    "bankdf.head()\n",
    "# if need be the renamed data frame can be saved again in csv format. "
   ]
  },
  {
   "cell_type": "code",
   "execution_count": 190,
   "metadata": {},
   "outputs": [
    {
     "data": {
      "text/plain": [
       "(45211, 17)"
      ]
     },
     "execution_count": 190,
     "metadata": {},
     "output_type": "execute_result"
    }
   ],
   "source": [
    "bankdf.shape"
   ]
  },
  {
   "cell_type": "code",
   "execution_count": 191,
   "metadata": {},
   "outputs": [
    {
     "data": {
      "text/html": [
       "<div>\n",
       "<style scoped>\n",
       "    .dataframe tbody tr th:only-of-type {\n",
       "        vertical-align: middle;\n",
       "    }\n",
       "\n",
       "    .dataframe tbody tr th {\n",
       "        vertical-align: top;\n",
       "    }\n",
       "\n",
       "    .dataframe thead th {\n",
       "        text-align: right;\n",
       "    }\n",
       "</style>\n",
       "<table border=\"1\" class=\"dataframe\">\n",
       "  <thead>\n",
       "    <tr style=\"text-align: right;\">\n",
       "      <th></th>\n",
       "      <th>age</th>\n",
       "      <th>balance</th>\n",
       "      <th>day</th>\n",
       "      <th>duration</th>\n",
       "      <th>campaign</th>\n",
       "      <th>pdays</th>\n",
       "      <th>previous</th>\n",
       "      <th>class</th>\n",
       "    </tr>\n",
       "  </thead>\n",
       "  <tbody>\n",
       "    <tr>\n",
       "      <th>count</th>\n",
       "      <td>45211.000000</td>\n",
       "      <td>45211.000000</td>\n",
       "      <td>45211.000000</td>\n",
       "      <td>45211.000000</td>\n",
       "      <td>45211.000000</td>\n",
       "      <td>45211.000000</td>\n",
       "      <td>45211.000000</td>\n",
       "      <td>45211.0</td>\n",
       "    </tr>\n",
       "    <tr>\n",
       "      <th>mean</th>\n",
       "      <td>40.936210</td>\n",
       "      <td>1362.272058</td>\n",
       "      <td>15.806419</td>\n",
       "      <td>258.163080</td>\n",
       "      <td>2.763841</td>\n",
       "      <td>40.197828</td>\n",
       "      <td>0.580323</td>\n",
       "      <td>0.0</td>\n",
       "    </tr>\n",
       "    <tr>\n",
       "      <th>std</th>\n",
       "      <td>10.618762</td>\n",
       "      <td>3044.765829</td>\n",
       "      <td>8.322476</td>\n",
       "      <td>257.527812</td>\n",
       "      <td>3.098021</td>\n",
       "      <td>100.128746</td>\n",
       "      <td>2.303441</td>\n",
       "      <td>0.0</td>\n",
       "    </tr>\n",
       "    <tr>\n",
       "      <th>min</th>\n",
       "      <td>18.000000</td>\n",
       "      <td>-8019.000000</td>\n",
       "      <td>1.000000</td>\n",
       "      <td>0.000000</td>\n",
       "      <td>1.000000</td>\n",
       "      <td>-1.000000</td>\n",
       "      <td>0.000000</td>\n",
       "      <td>0.0</td>\n",
       "    </tr>\n",
       "    <tr>\n",
       "      <th>25%</th>\n",
       "      <td>33.000000</td>\n",
       "      <td>72.000000</td>\n",
       "      <td>8.000000</td>\n",
       "      <td>103.000000</td>\n",
       "      <td>1.000000</td>\n",
       "      <td>-1.000000</td>\n",
       "      <td>0.000000</td>\n",
       "      <td>0.0</td>\n",
       "    </tr>\n",
       "    <tr>\n",
       "      <th>50%</th>\n",
       "      <td>39.000000</td>\n",
       "      <td>448.000000</td>\n",
       "      <td>16.000000</td>\n",
       "      <td>180.000000</td>\n",
       "      <td>2.000000</td>\n",
       "      <td>-1.000000</td>\n",
       "      <td>0.000000</td>\n",
       "      <td>0.0</td>\n",
       "    </tr>\n",
       "    <tr>\n",
       "      <th>75%</th>\n",
       "      <td>48.000000</td>\n",
       "      <td>1428.000000</td>\n",
       "      <td>21.000000</td>\n",
       "      <td>319.000000</td>\n",
       "      <td>3.000000</td>\n",
       "      <td>-1.000000</td>\n",
       "      <td>0.000000</td>\n",
       "      <td>0.0</td>\n",
       "    </tr>\n",
       "    <tr>\n",
       "      <th>max</th>\n",
       "      <td>95.000000</td>\n",
       "      <td>102127.000000</td>\n",
       "      <td>31.000000</td>\n",
       "      <td>4918.000000</td>\n",
       "      <td>63.000000</td>\n",
       "      <td>871.000000</td>\n",
       "      <td>275.000000</td>\n",
       "      <td>0.0</td>\n",
       "    </tr>\n",
       "  </tbody>\n",
       "</table>\n",
       "</div>"
      ],
      "text/plain": [
       "                age        balance           day      duration      campaign  \\\n",
       "count  45211.000000   45211.000000  45211.000000  45211.000000  45211.000000   \n",
       "mean      40.936210    1362.272058     15.806419    258.163080      2.763841   \n",
       "std       10.618762    3044.765829      8.322476    257.527812      3.098021   \n",
       "min       18.000000   -8019.000000      1.000000      0.000000      1.000000   \n",
       "25%       33.000000      72.000000      8.000000    103.000000      1.000000   \n",
       "50%       39.000000     448.000000     16.000000    180.000000      2.000000   \n",
       "75%       48.000000    1428.000000     21.000000    319.000000      3.000000   \n",
       "max       95.000000  102127.000000     31.000000   4918.000000     63.000000   \n",
       "\n",
       "              pdays      previous    class  \n",
       "count  45211.000000  45211.000000  45211.0  \n",
       "mean      40.197828      0.580323      0.0  \n",
       "std      100.128746      2.303441      0.0  \n",
       "min       -1.000000      0.000000      0.0  \n",
       "25%       -1.000000      0.000000      0.0  \n",
       "50%       -1.000000      0.000000      0.0  \n",
       "75%       -1.000000      0.000000      0.0  \n",
       "max      871.000000    275.000000      0.0  "
      ]
     },
     "execution_count": 191,
     "metadata": {},
     "output_type": "execute_result"
    }
   ],
   "source": [
    "bankdf.describe()"
   ]
  },
  {
   "cell_type": "code",
   "execution_count": 192,
   "metadata": {},
   "outputs": [],
   "source": [
    "# Checking for missing values"
   ]
  },
  {
   "cell_type": "code",
   "execution_count": 193,
   "metadata": {},
   "outputs": [
    {
     "data": {
      "text/plain": [
       "<matplotlib.axes._subplots.AxesSubplot at 0x7f873b010438>"
      ]
     },
     "execution_count": 193,
     "metadata": {},
     "output_type": "execute_result"
    },
    {
     "data": {
      "image/png": "[encoded data removed]",
      "text/plain": [
       "<Figure size 1152x432 with 1 Axes>"
      ]
     },
     "metadata": {
      "needs_background": "light"
     },
     "output_type": "display_data"
    }
   ],
   "source": [
    "# checking heat map for missing values\n",
    "plt.figure(figsize=(16, 6))\n",
    "sns.heatmap(bankdf.isnull(),yticklabels=False,cbar=False,cmap='viridis')"
   ]
  },
  {
   "cell_type": "code",
   "execution_count": 194,
   "metadata": {},
   "outputs": [
    {
     "name": "stdout",
     "output_type": "stream",
     "text": [
      "\n",
      "Student Name: Rahul Gupta\n",
      "Course: 680\n",
      "Instructor: Fadi Alsaleem\n",
      "\n",
      "Current date and time : \n",
      "2021-04-29 23:51:32\n",
      "\n",
      "age               0\n",
      "job               0\n",
      "marital_status    0\n",
      "education         0\n",
      "default           0\n",
      "balance           0\n",
      "housing           0\n",
      "loan              0\n",
      "contact           0\n",
      "day               0\n",
      "month             0\n",
      "duration          0\n",
      "campaign          0\n",
      "pdays             0\n",
      "previous          0\n",
      "poutcome          0\n",
      "class             0\n",
      "dtype: int64\n"
     ]
    }
   ],
   "source": [
    "# Checking for blank values for each column\n",
    "import datetime\n",
    "now = datetime.datetime.now()\n",
    "\n",
    "print()\n",
    "def personal_details():\n",
    "    name, age = \"Rahul Gupta\", 680\n",
    "    address = \"Fadi Alsaleem\"\n",
    "    print(\"Student Name: {}\\nCourse: {}\\nInstructor: {}\".format(name, age, address))\n",
    "\n",
    "personal_details()\n",
    "\n",
    "print()\n",
    "print (\"Current date and time : \")\n",
    "print (now.strftime(\"%Y-%m-%d %H:%M:%S\"))\n",
    "\n",
    "print()\n",
    "\n",
    "nullcols = bankdf.isnull().sum()\n",
    "print(nullcols)"
   ]
  },
  {
   "cell_type": "code",
   "execution_count": 195,
   "metadata": {},
   "outputs": [
    {
     "ename": "SyntaxError",
     "evalue": "invalid syntax (<ipython-input-195-70aeee51c12b>, line 1)",
     "output_type": "error",
     "traceback": [
      "\u001b[0;36m  File \u001b[0;32m\"<ipython-input-195-70aeee51c12b>\"\u001b[0;36m, line \u001b[0;32m1\u001b[0m\n\u001b[0;31m    All columns are populated in this data set.\u001b[0m\n\u001b[0m              ^\u001b[0m\n\u001b[0;31mSyntaxError\u001b[0m\u001b[0;31m:\u001b[0m invalid syntax\n"
     ]
    }
   ],
   "source": [
    "All columns are populated in this data set. "
   ]
  },
  {
   "cell_type": "code",
   "execution_count": null,
   "metadata": {},
   "outputs": [],
   "source": [
    "# Getting list of categorical columns\n",
    "#bankdf.select_dtypes(exclude=['int', 'float']).columns"
   ]
  },
  {
   "cell_type": "code",
   "execution_count": null,
   "metadata": {},
   "outputs": [],
   "source": [
    "# Defining fonts for plotting exploratory data analysis\n",
    "\n",
    "titlefont = {'family': 'serif',\n",
    "        'color':  'darkblue',\n",
    "        'weight': 'bold',\n",
    "        'size': 16,\n",
    "        }\n",
    "\n",
    "labelfont = {'family': 'serif',\n",
    "        'color':  'black',\n",
    "        'weight': 'normal',\n",
    "        'size': 12,\n",
    "        }"
   ]
  },
  {
   "cell_type": "code",
   "execution_count": null,
   "metadata": {},
   "outputs": [],
   "source": [
    "# Exploring counts by each category (of categorical variables)"
   ]
  },
  {
   "cell_type": "code",
   "execution_count": null,
   "metadata": {},
   "outputs": [],
   "source": [
    "Let us the check the count of customers as per term subscription. Note that this is the actual target variable and expected to be in Boolean type."
   ]
  },
  {
   "cell_type": "code",
   "execution_count": null,
   "metadata": {},
   "outputs": [],
   "source": [
    "print()\n",
    "def personal_details():\n",
    "    name, age = \"Rahul Gupta\", 680\n",
    "    address = \"Fadi Alsaleem\"\n",
    "    print(\"Student Name: {}\\nCourse: {}\\nInstructor: {}\".format(name, age, address))\n",
    "\n",
    "personal_details()\n",
    "\n",
    "print()\n",
    "print (\"Current date and time : \")\n",
    "print (now.strftime(\"%Y-%m-%d %H:%M:%S\"))\n",
    "\n",
    "print()\n",
    "\n",
    "# Draw count plot\n",
    "sns.set(style=\"darkgrid\", palette=\"Set3\")\n",
    "plt.figure(figsize=(10, 6))\n",
    "ax = sns.countplot(x=\"class\", data=bankdf , palette=\"Set3\")\n",
    "\n",
    "\n",
    "plt.xlabel(\"Customer Classification\", fontdict=labelfont)\n",
    "plt.ylabel(\"Count\", fontdict=labelfont)\n",
    "plt.title(\"Records Counts by Customer Classification\",fontdict=titlefont , color='r' ))"
   ]
  },
  {
   "cell_type": "code",
   "execution_count": null,
   "metadata": {},
   "outputs": [],
   "source": [
    "The class variable is supposed to be binary, instead it is having values - 1 or 2. This need to be tweaked to 0 or 1."
   ]
  },
  {
   "cell_type": "code",
   "execution_count": null,
   "metadata": {},
   "outputs": [],
   "source": [
    "# Changing class variable values to 0 (no) or 1 (yes)\n",
    "\n",
    "import datetime\n",
    "now = datetime.datetime.now()\n",
    "\n",
    "print()\n",
    "def personal_details():\n",
    "    name, age = \"Rahul Gupta\", 680\n",
    "    address = \"Fadi Alsaleem\"\n",
    "    print(\"Student Name: {}\\nCourse: {}\\nInstructor: {}\".format(name, age, address))\n",
    "\n",
    "personal_details()\n",
    "\n",
    "print()\n",
    "print (\"Current date and time : \")\n",
    "print (now.strftime(\"%Y-%m-%d %H:%M:%S\"))\n",
    "\n",
    "\n",
    "bankdf.loc[bankdf['class'] == 1, 'class'] = 0    # Changing all NO to 0\n",
    "bankdf.loc[bankdf['class'] == 2, 'class'] = 1    # Changing all YES to 1"
   ]
  },
  {
   "cell_type": "code",
   "execution_count": null,
   "metadata": {},
   "outputs": [],
   "source": [
    "sns.set(style=\"darkgrid\", palette=\"Set3\")\n",
    "plt.figure(figsize=(10, 6))\n",
    "ax = sns.countplot(x=\"job\", data=bankdf)\n",
    "\n",
    "plt.xlabel(\"Job Status\", fontdict=labelfont)\n",
    "plt.ylabel(\"Count\", fontdict=labelfont)\n",
    "plt.xticks(rotation=45)\n",
    "plt.title(\"Count of records by Job\", fontdict=titlefont , color='r' )"
   ]
  },
  {
   "cell_type": "code",
   "execution_count": null,
   "metadata": {},
   "outputs": [],
   "source": [
    "bankdf1 = bankdf.groupby(['job', 'class']).size().reset_index().pivot(columns='class', index='job', values=0)\n",
    "bankdf1"
   ]
  },
  {
   "cell_type": "code",
   "execution_count": null,
   "metadata": {},
   "outputs": [],
   "source": [
    "sns.set(style=\"darkgrid\", palette=\"Set3\")\n",
    "\n",
    "plt.rcParams[\"figure.figsize\"] = [10, 6]\n",
    "bankdf1.plot(kind='bar', stacked=True)\n",
    "\n",
    "plt.xlabel(\"Job Status\", fontdict=labelfont)\n",
    "plt.ylabel(\"Count\", fontdict=labelfont)\n",
    "plt.xticks(rotation=45)\n",
    "plt.title(\"Count of subscriptions by Job\", fontdict=titlefont , color='r' ))\n"
   ]
  },
  {
   "cell_type": "code",
   "execution_count": null,
   "metadata": {},
   "outputs": [],
   "source": [
    "Top 3 job statuses among the current customers are blue-collar, management, and technician."
   ]
  },
  {
   "cell_type": "code",
   "execution_count": null,
   "metadata": {},
   "outputs": [],
   "source": [
    "sns.set(style=\"darkgrid\", palette=\"Set3\")\n",
    "plt.figure(figsize=(10, 6))\n",
    "ax = sns.countplot(x=\"marital_status\", data=bankdf)\n",
    "\n",
    "plt.xlabel(\"Marital Status\", fontdict=labelfont)\n",
    "plt.ylabel(\"Count\", fontdict=labelfont)\n",
    "\n",
    "plt.xticks(rotation=45)\n",
    "plt.title(\"Count of records by Marital Status\", fontdict=titlefont , color='r' ))\n"
   ]
  },
  {
   "cell_type": "code",
   "execution_count": null,
   "metadata": {},
   "outputs": [],
   "source": [
    "bankdf2 = bankdf.groupby(['marital_status', 'class']).size().reset_index().pivot(columns='class', index='marital_status', values=0)\n",
    "bankdf2\n",
    "\n",
    "sns.set(style=\"darkgrid\" , palette=\"Set3\")\n",
    "\n",
    "plt.rcParams[\"figure.figsize\"] = [10, 6]\n",
    "bankdf2.plot(kind='bar', stacked=True)\n",
    "\n",
    "plt.xlabel(\"Marital Jobs\", fontdict=labelfont)\n",
    "plt.ylabel(\"Count\", fontdict=labelfont)\n",
    "plt.xticks(rotation=45)\n",
    "plt.title(\"Count of subscriptions by Marital Status\", fontdict=titlefont , color='r' ))\n",
    "\n",
    "plt.savefig('Maritalstatus.jpeg',\n",
    "                    format='jpeg',\n",
    "                    dpi=90)\n"
   ]
  },
  {
   "cell_type": "code",
   "execution_count": null,
   "metadata": {},
   "outputs": [],
   "source": [
    "Most of the current customers are married as clearly depicted in below bar plot."
   ]
  },
  {
   "cell_type": "code",
   "execution_count": null,
   "metadata": {},
   "outputs": [],
   "source": [
    "sns.set(style=\"darkgrid\", palette=\"Set3\")\n",
    "plt.figure(figsize=(10, 6))\n",
    "ax = sns.countplot(x=\"education\", data=bankdf)\n",
    "\n",
    "plt.xlabel(\"Education\", fontdict=labelfont)\n",
    "plt.ylabel(\"Count\", fontdict=labelfont)\n",
    "\n",
    "plt.xticks(rotation=45)\n",
    "plt.title(\"Count of records by Education\", fontdict=titlefont , color='r' ))"
   ]
  },
  {
   "cell_type": "code",
   "execution_count": null,
   "metadata": {},
   "outputs": [],
   "source": [
    "bankdf3 = bankdf.groupby(['education', 'class']).size().reset_index().pivot(columns='class', index='education', values=0)\n",
    "bankdf3\n",
    "\n",
    "sns.set(style=\"darkgrid\", palette=\"Set3\")\n",
    "\n",
    "plt.rcParams[\"figure.figsize\"] = [10, 6]\n",
    "bankdf3.plot(kind='bar', stacked=True)\n",
    "\n",
    "plt.xlabel(\"Education\", fontdict=labelfont)\n",
    "plt.ylabel(\"Count\", fontdict=labelfont)\n",
    "plt.xticks(rotation=45)\n",
    "plt.title(\"Count of subscriptions by Education\", fontdict=titlefont , color='r' )"
   ]
  },
  {
   "cell_type": "code",
   "execution_count": null,
   "metadata": {},
   "outputs": [],
   "source": [
    "Most of the customers have at least secondary education and tertiary education."
   ]
  },
  {
   "cell_type": "code",
   "execution_count": null,
   "metadata": {},
   "outputs": [],
   "source": [
    "sns.set(style=\"darkgrid\", palette=\"Set3\")\n",
    "plt.figure(figsize=(10, 6))\n",
    "ax = sns.countplot(x=\"default\", data=bankdf)\n",
    "\n",
    "plt.xlabel(\"Defaulted Earlier?\", fontdict=labelfont)\n",
    "plt.ylabel(\"Count\", fontdict=labelfont)\n",
    "plt.xticks(rotation=45)\n",
    "plt.title(\"Count of records by Default Status\", fontdict=titlefont , color='r' )"
   ]
  },
  {
   "cell_type": "code",
   "execution_count": null,
   "metadata": {},
   "outputs": [],
   "source": [
    "bankdf3 = bankdf.groupby(['default', 'class']).size().reset_index().pivot(columns='class', index='default', values=0)\n",
    "bankdf3\n",
    "\n",
    "sns.set(style=\"darkgrid\", palette=\"Set3\")\n",
    "\n",
    "plt.rcParams[\"figure.figsize\"] = [8, 6]\n",
    "bankdf3.plot(kind='bar', stacked=True)\n",
    "\n",
    "plt.xlabel(\"Defaulted Earlier?\", fontdict=labelfont)\n",
    "plt.ylabel(\"Count\", fontdict=labelfont)\n",
    "plt.xticks(rotation=45)\n",
    "plt.title(\"Count of subscriptions by Default status\", fontdict=titlefont , color='r' )"
   ]
  },
  {
   "cell_type": "code",
   "execution_count": null,
   "metadata": {},
   "outputs": [],
   "source": [
    "sns.set(style=\"darkgrid\", palette=\"Set3\")\n",
    "plt.figure(figsize=(10, 6))\n",
    "ax = sns.countplot(x=\"housing\", data=bankdf)\n",
    "\n",
    "plt.xlabel(\"Housing Loan\", fontdict=labelfont)\n",
    "plt.ylabel(\"Count\", fontdict=labelfont)\n",
    "plt.xticks(rotation=45)\n",
    "plt.title(\"Count of records by Housing Loan Status\",fontdict=titlefont , color='r' )\n",
    "\n"
   ]
  },
  {
   "cell_type": "code",
   "execution_count": null,
   "metadata": {},
   "outputs": [],
   "source": [
    "bankdf4 = bankdf.groupby(['housing', 'class']).size().reset_index().pivot(columns='class', index='housing', values=0)\n",
    "bankdf4\n",
    "\n",
    "sns.set(style=\"darkgrid\", palette=\"Set3\")\n",
    "\n",
    "plt.rcParams[\"figure.figsize\"] = [8, 6]\n",
    "bankdf4.plot(kind='bar', stacked=True)\n",
    "\n",
    "plt.xlabel(\"Housing Status\", fontdict=labelfont)\n",
    "plt.ylabel(\"Count\", fontdict=labelfont)\n",
    "plt.xticks(rotation=45)\n",
    "plt.title(\"Count of subscriptions by Housing Loan\", fontdict=titlefont , color='r' )"
   ]
  },
  {
   "cell_type": "code",
   "execution_count": null,
   "metadata": {},
   "outputs": [],
   "source": [
    "Most of the current customer bunch does have housing loan with the bank and looks like customers that do not have housing loan with the bank are more likely to subscribe for term deposit."
   ]
  },
  {
   "cell_type": "code",
   "execution_count": null,
   "metadata": {},
   "outputs": [],
   "source": [
    "sns.set(style=\"darkgrid\", palette=\"Set3\")\n",
    "plt.figure(figsize=(10, 6))\n",
    "ax = sns.countplot(x=\"loan\", data=bankdf)\n",
    "\n",
    "plt.xlabel(\"Personal Loan\", fontdict=labelfont)\n",
    "plt.ylabel(\"Count\", fontdict=labelfont)\n",
    "plt.xticks(rotation=45)\n",
    "plt.title(\"Count of records by Personal Loan Status\",fontdict=titlefont , color='r' )"
   ]
  },
  {
   "cell_type": "code",
   "execution_count": null,
   "metadata": {},
   "outputs": [],
   "source": [
    "bankdf5 = bankdf.groupby(['loan', 'class']).size().reset_index().pivot(columns='class', index='loan', values=0)\n",
    "bankdf5\n",
    "\n",
    "sns.set(style=\"darkgrid\", palette=\"Set3\")\n",
    "\n",
    "plt.rcParams[\"figure.figsize\"] = [10, 6]\n",
    "bankdf5.plot(kind='bar', stacked=True)\n",
    "\n",
    "plt.xlabel(\"Personal Loan\", fontdict=labelfont)\n",
    "plt.ylabel(\"Count\", fontdict=labelfont)\n",
    "plt.xticks(rotation=45)\n",
    "plt.title(\"Count of subscriptions by Personal Loan\", fontdict=titlefont , color='r' )"
   ]
  },
  {
   "cell_type": "code",
   "execution_count": null,
   "metadata": {},
   "outputs": [],
   "source": [
    "Most of the current customer bunch does not have personal loan with the bank and looks like customers that do not have personal loan with the bank are more likely to subscribe for term deposit."
   ]
  },
  {
   "cell_type": "code",
   "execution_count": null,
   "metadata": {},
   "outputs": [],
   "source": [
    "sns.set(style=\"darkgrid\", palette=\"Set3\")\n",
    "plt.figure(figsize=(10, 6))\n",
    "ax = sns.countplot(x=\"contact\", data=bankdf)\n",
    "\n",
    "\n",
    "plt.xlabel(\"Contact Method\", fontdict=labelfont)\n",
    "plt.ylabel(\"Count\", fontdict=labelfont)\n",
    "plt.xticks(rotation=45)\n",
    "plt.title(\"Count of records by Contact Method\",fontdict=titlefont , color='r' )"
   ]
  },
  {
   "cell_type": "code",
   "execution_count": null,
   "metadata": {},
   "outputs": [],
   "source": [
    "bankdf6 = bankdf.groupby(['contact', 'class']).size().reset_index().pivot(columns='class', index='contact', values=0)\n",
    "bankdf6\n",
    "\n",
    "sns.set(style=\"darkgrid\", palette=\"Set3\")\n",
    "\n",
    "plt.rcParams[\"figure.figsize\"] = [10, 6]\n",
    "bankdf6.plot(kind='bar', stacked=True)\n",
    "\n",
    "plt.xlabel(\"Contact Method\", fontdict=labelfont)\n",
    "plt.ylabel(\"Count\", fontdict=labelfont)\n",
    "plt.xticks(rotation=45)\n",
    "plt.title(\"Count of subscriptions by Contact Method\", fontdict=titlefont , color='r' )"
   ]
  },
  {
   "cell_type": "code",
   "execution_count": null,
   "metadata": {},
   "outputs": [],
   "source": [
    "Most of the customers prefer cellular phone as the primary contact method. It is understandable as cell phones offer flexibility to be carried all the time.  "
   ]
  },
  {
   "cell_type": "code",
   "execution_count": null,
   "metadata": {},
   "outputs": [],
   "source": [
    "sns.set(style=\"darkgrid\", palette=\"Set3\")\n",
    "plt.figure(figsize=(10, 6))\n",
    "ax = sns.countplot(x=\"poutcome\", data=bankdf)\n",
    "\n",
    "\n",
    "plt.xlabel(\"Previous Campaign Outcome\", fontdict=labelfont)\n",
    "plt.ylabel(\"Count\", fontdict=labelfont)\n",
    "plt.xticks(rotation=45)\n",
    "plt.title(\"Count of records by Previous Campaign Outcome\",fontdict=titlefont , color='r' )"
   ]
  },
  {
   "cell_type": "code",
   "execution_count": null,
   "metadata": {},
   "outputs": [],
   "source": [
    "bankdf7 = bankdf.groupby(['poutcome', 'class']).size().reset_index().pivot(columns='class', index='poutcome', values=0)\n",
    "bankdf7\n",
    "\n",
    "sns.set(style=\"darkgrid\", palette=\"Set3\")\n",
    "\n",
    "plt.rcParams[\"figure.figsize\"] = [10, 6]\n",
    "bankdf7.plot(kind='bar', stacked=True)\n",
    "\n",
    "plt.xlabel(\"Previous Campaign Outcome\", fontdict=labelfont)\n",
    "plt.ylabel(\"Count\", fontdict=labelfont)\n",
    "plt.xticks(rotation=45)\n",
    "plt.title(\"Count of subscriptions by Previous Campaign Outcome\", fontdict=titlefont , color='r' )"
   ]
  },
  {
   "cell_type": "code",
   "execution_count": null,
   "metadata": {},
   "outputs": [],
   "source": [
    "sns.set(style=\"darkgrid\", palette=\"Set3\")\n",
    "plt.figure(figsize=(10, 6))\n",
    "ax = sns.countplot(x=\"month\", data=bankdf)\n",
    "\n",
    "\n",
    "plt.xlabel(\"Month\", fontdict=labelfont)\n",
    "plt.ylabel(\"Count\", fontdict=labelfont)\n",
    "plt.title(\"Count of records by Month\",fontdict=titlefont , color='r' )"
   ]
  },
  {
   "cell_type": "code",
   "execution_count": null,
   "metadata": {},
   "outputs": [],
   "source": [
    "bankdf8 = bankdf.groupby(['month', 'class']).size().reset_index().pivot(columns='class', index='month', values=0)\n",
    "bankdf8\n",
    "\n",
    "sns.set(style=\"darkgrid\", palette=\"Set3\")\n",
    "\n",
    "plt.rcParams[\"figure.figsize\"] = [10, 6]\n",
    "bankdf8.plot(kind='bar', stacked=True)\n",
    "\n",
    "plt.xlabel(\"Month\", fontdict=labelfont)\n",
    "plt.ylabel(\"Count\", fontdict=labelfont)\n",
    "plt.xticks(rotation=45)\n",
    "plt.title(\"Count of subscriptions by Month\", fontdict=titlefont , color='r' )"
   ]
  },
  {
   "cell_type": "code",
   "execution_count": null,
   "metadata": {},
   "outputs": [],
   "source": [
    "The class variable is supposed to be binary, instead it is having values - 1 or 2. This need to be tweaked to 0 or 1. "
   ]
  },
  {
   "cell_type": "code",
   "execution_count": null,
   "metadata": {},
   "outputs": [],
   "source": [
    "sns.set(style=\"darkgrid\", palette=\"Set3\")\n",
    "plt.figure(figsize=(16, 6))\n",
    "sns.distplot(bankdf.balance, kde=True,color=\"b\")\n",
    "\n",
    "plt.xlabel(\"Balance\", fontdict=labelfont)\n",
    "plt.ylabel(\"Count\", fontdict=labelfont)\n",
    "plt.title(\"Balances distribution\", fontdict=titlefont , color='r' )"
   ]
  },
  {
   "cell_type": "code",
   "execution_count": null,
   "metadata": {},
   "outputs": [],
   "source": [
    "Balance distribution of the banks current customers is highly skewed with long tail towards higher end of the scale.  We can infer that most of the current customers maintain less than 10,000 balance. "
   ]
  },
  {
   "cell_type": "code",
   "execution_count": null,
   "metadata": {},
   "outputs": [],
   "source": [
    "sns.set(style=\"darkgrid\", palette=\"Set3\")\n",
    "plt.figure(figsize=(16, 6))\n",
    "ax = sns.boxplot(x=\"balance\", data=bankdf)\n",
    "\n",
    "plt.xlabel(\"Balance\", fontdict=labelfont)\n",
    "plt.ylabel(\"Count\", fontdict=labelfont)\n",
    "\n",
    "plt.xticks(rotation=45)\n",
    "plt.title(\"Balances distribution\", fontdict=titlefont , color='r' )\n"
   ]
  },
  {
   "cell_type": "code",
   "execution_count": null,
   "metadata": {},
   "outputs": [],
   "source": [
    "sns.set(style=\"darkgrid\", palette=\"Set3\")\n",
    "plt.figure(figsize=(16, 6))\n",
    "sns.distplot(bankdf.duration, kde=True,color=\"b\")\n",
    "\n",
    "plt.xlabel(\"Duration\", fontdict=labelfont)\n",
    "plt.ylabel(\"Count\", fontdict=labelfont)\n",
    "plt.title(\"Call Duration distribution\", fontdict=titlefont , color='r' )"
   ]
  },
  {
   "cell_type": "code",
   "execution_count": null,
   "metadata": {},
   "outputs": [],
   "source": [
    "Most of the current customers have spoken for less than 500 seconds during the last call campaign. Which means, the campaign representatives on average must spend less than 10 minutes, to get to know either the customer is interested or not in subscribing to term deposit program. "
   ]
  },
  {
   "cell_type": "code",
   "execution_count": null,
   "metadata": {},
   "outputs": [],
   "source": [
    "sns.set(style=\"darkgrid\", palette=\"Set3\")\n",
    "plt.figure(figsize=(16, 6))\n",
    "ax = sns.boxplot(x=\"duration\", data=bankdf)\n",
    "\n",
    "plt.xlabel(\"Duration\", fontdict=labelfont)\n",
    "plt.ylabel(\"Count\", fontdict=labelfont)\n",
    "\n",
    "plt.xticks(rotation=45)\n",
    "plt.title(\"Duration distribution\", fontdict=titlefont , color='r' )\n"
   ]
  },
  {
   "cell_type": "code",
   "execution_count": null,
   "metadata": {},
   "outputs": [],
   "source": [
    "sns.set(style=\"darkgrid\", palette=\"Set3\")\n",
    "plt.figure(figsize=(16, 6))\n",
    "ax = sns.boxplot(x=\"pdays\", data=bankdf)\n",
    "\n",
    "plt.xlabel(\"Previous contacted date\", fontdict=labelfont)\n",
    "plt.ylabel(\"Count\", fontdict=labelfont)\n",
    "\n",
    "plt.xticks(rotation=45)\n",
    "plt.title(\"Previous contacted date\", fontdict=titlefont , color='r' )\n"
   ]
  },
  {
   "cell_type": "code",
   "execution_count": null,
   "metadata": {},
   "outputs": [],
   "source": [
    "#  Feature Engineering"
   ]
  },
  {
   "cell_type": "code",
   "execution_count": null,
   "metadata": {},
   "outputs": [],
   "source": [
    "The input features actually include a lot of categorical variables. Categorical variables must be encoded to match the predictive models. Here, I used pandas – getdummies() function to create dummy variables for all of the categorical variables."
   ]
  },
  {
   "cell_type": "code",
   "execution_count": null,
   "metadata": {},
   "outputs": [],
   "source": [
    "bankdf_wdummy = pd.get_dummies(bankdf)\n",
    "bankdf_wdummy.head()"
   ]
  },
  {
   "cell_type": "code",
   "execution_count": null,
   "metadata": {},
   "outputs": [],
   "source": [
    "bankdf_wdummy.columns"
   ]
  },
  {
   "cell_type": "code",
   "execution_count": null,
   "metadata": {},
   "outputs": [],
   "source": [
    "To avoid dummy variable trap, one dummy variable for each categorical variable should be removed. Below dummy variable columns are removed\n",
    "\n",
    "'job_unknown', 'marital_status_divorced','education_unknown','default_no','housing_no', 'loan_no', \n",
    "'month_dec','contact_unknown', 'poutcome_unknown'"
   ]
  },
  {
   "cell_type": "code",
   "execution_count": null,
   "metadata": {},
   "outputs": [],
   "source": [
    "#The Dummy Variable trap is a scenario in which the independent variables are multicollinear - a scenario in which two or\n",
    "# more variables are highly correlated; in simple terms one variable can be predicted from the others. To demonstrate the Dummy Variable Trap,\n",
    "\n",
    "\n",
    "# Resolving Dummy Variable Trap\n",
    "\n",
    "\n",
    "\n",
    "bankdf_wdummy_final = bankdf_wdummy[['age', 'balance', 'day', 'duration', 'campaign', 'pdays', 'previous',\n",
    "       'class', 'job_admin.', 'job_blue-collar', 'job_entrepreneur',\n",
    "       'job_housemaid', 'job_management', 'job_retired', 'job_self-employed',\n",
    "       'job_services', 'job_student', 'job_technician', 'job_unemployed',\n",
    "       'marital_status_married', 'marital_status_single', \n",
    "       'education_primary', 'education_secondary',\n",
    "       'education_tertiary',  'default_yes',\n",
    "       'housing_yes', 'loan_yes', 'contact_cellular',\n",
    "       'contact_telephone',  'month_apr', 'month_aug',\n",
    "       'month_feb', 'month_jan', 'month_jul', 'month_jun',\n",
    "       'month_mar', 'month_may', 'month_nov', 'month_oct', 'month_sep',\n",
    "       'poutcome_failure', 'poutcome_other', 'poutcome_success',\n",
    "       ]]\n"
   ]
  },
  {
   "cell_type": "code",
   "execution_count": null,
   "metadata": {},
   "outputs": [],
   "source": [
    "bankdf_wdummy_final.columns"
   ]
  },
  {
   "cell_type": "code",
   "execution_count": null,
   "metadata": {},
   "outputs": [],
   "source": [
    "bankdf_wdummy_final.shape"
   ]
  },
  {
   "cell_type": "code",
   "execution_count": null,
   "metadata": {},
   "outputs": [],
   "source": [
    "# Feature Selection"
   ]
  },
  {
   "cell_type": "code",
   "execution_count": null,
   "metadata": {},
   "outputs": [],
   "source": [
    "features = bankdf_wdummy_final.loc[ : , bankdf_wdummy_final.columns != 'class' ]\n",
    "features.head()"
   ]
  },
  {
   "cell_type": "code",
   "execution_count": null,
   "metadata": {},
   "outputs": [],
   "source": [
    "target = bankdf_wdummy_final['class']\n",
    "target.head()"
   ]
  },
  {
   "cell_type": "code",
   "execution_count": null,
   "metadata": {},
   "outputs": [],
   "source": [
    "Extra Trees Classifier (Extremely Randomized Tress):\n",
    "    \n",
    "Random split of random subset features\n",
    "\n",
    "Bootstrap = False, samples without replacement\n",
    "\n",
    "Low Variance"
   ]
  },
  {
   "cell_type": "code",
   "execution_count": null,
   "metadata": {},
   "outputs": [],
   "source": [
    "#Feature selection is the process of reducing the number of input variables when developing a predictive model. It is desirable to reduce the number of input variables to both reduce the computational cost of modeling and, \n",
    "# in some cases, to improve the performance of the model.\n",
    "\n",
    "# feature selection\n",
    "\n",
    "import datetime\n",
    "now = datetime.datetime.now()\n",
    "\n",
    "print()\n",
    "def personal_details():\n",
    "    name, age = \"Rahul Gupta\", 680\n",
    "    address = \"Fadi Alsaleem\"\n",
    "    print(\"Student Name: {}\\nCourse: {}\\nInstructor: {}\".format(name, age, address))\n",
    "\n",
    "personal_details()\n",
    "\n",
    "print()\n",
    "print (\"Current date and time : \")\n",
    "print (now.strftime(\"%Y-%m-%d %H:%M:%S\"))\n",
    "\n",
    "print()\n",
    "\n",
    "\n",
    "fsmodel = ExtraTreesClassifier(n_estimators=10)\n",
    "fsmodel.fit(features, target)\n",
    "impfeatures = fsmodel.feature_importances_\n",
    "print(impfeatures)\n",
    "print(features.columns)"
   ]
  },
  {
   "cell_type": "code",
   "execution_count": null,
   "metadata": {},
   "outputs": [],
   "source": [
    "indices = np.argsort(impfeatures)[::-1]\n",
    "\n",
    "# Print the feature ranking\n",
    "print(\"Feature ranking:\")\n",
    "\n",
    "for f in range(features.shape[1]):\n",
    "    print(\"%d. feature %d (%f)\" % (f + 1, indices[f], impfeatures[indices[f]]))"
   ]
  },
  {
   "cell_type": "code",
   "execution_count": null,
   "metadata": {},
   "outputs": [],
   "source": [
    "## Converting feature importance metric into a data frame for easy read"
   ]
  },
  {
   "cell_type": "code",
   "execution_count": null,
   "metadata": {},
   "outputs": [],
   "source": [
    "impfeatdf = pd.DataFrame(features.columns, impfeatures).reset_index()\n",
    "impfeatdf.rename(columns = {'index':'featureimportance',0: 'featurename'}, inplace = True)\n",
    "impfeatdf.sort_values('featureimportance',ascending=False)\n",
    "#impfeatdf.sort_values('impfeatures',ascending=False)"
   ]
  },
  {
   "cell_type": "code",
   "execution_count": null,
   "metadata": {},
   "outputs": [],
   "source": [
    "# Plotting Cummulative Importance"
   ]
  },
  {
   "cell_type": "code",
   "execution_count": null,
   "metadata": {},
   "outputs": [],
   "source": [
    "# Cumulative importances\n",
    "impfeatdf['cum_imp'] = np.cumsum(impfeatdf.featureimportance)\n",
    "impfeatdf"
   ]
  },
  {
   "cell_type": "code",
   "execution_count": null,
   "metadata": {},
   "outputs": [],
   "source": [
    "import datetime\n",
    "now = datetime.datetime.now()\n",
    "\n",
    "print()\n",
    "def personal_details():\n",
    "    name, age = \"Rahul Gupta\", 680\n",
    "    address = \"Fadi Alsaleem\"\n",
    "    print(\"Student Name: {}\\nCourse: {}\\nInstructor: {}\".format(name, age, address))\n",
    "\n",
    "personal_details()\n",
    "\n",
    "print()\n",
    "print (\"Current date and time : \")\n",
    "print (now.strftime(\"%Y-%m-%d %H:%M:%S\"))\n",
    "\n",
    "xvalues = list(range(len(list(impfeatdf.featureimportance))))\n",
    "\n",
    "plt.figure(figsize=(14, 8))\n",
    "\n",
    "# Make a line graph\n",
    "plt.plot(xvalues, impfeatdf.cum_imp, 'g-')\n",
    "\n",
    "# Draw line at 95% of importance retained\n",
    "plt.hlines(y = 0.95, xmin=0, xmax=len(impfeatdf.featureimportance), color = 'r', linestyles = 'dashed')\n",
    "\n",
    "# Format x ticks and labels\n",
    "plt.xticks(xvalues, impfeatdf.featurename, rotation = 'vertical')\n",
    "\n",
    "# Axis labels and title\n",
    "plt.xlabel('Variables', fontdict=labelfont)\n",
    "plt.ylabel('Cumulative Importance', fontdict=labelfont)\n",
    "plt.title('Cumulative Importances', fontdict=titlefont , color='r' )"
   ]
  },
  {
   "cell_type": "code",
   "execution_count": null,
   "metadata": {},
   "outputs": [],
   "source": []
  },
  {
   "cell_type": "code",
   "execution_count": null,
   "metadata": {},
   "outputs": [],
   "source": [
    "# Feature Selection without dummy encoding"
   ]
  },
  {
   "cell_type": "code",
   "execution_count": null,
   "metadata": {},
   "outputs": [],
   "source": [
    "features_nod = bankdf.loc[ : , bankdf.columns != 'class' ]\n",
    "features_nod.head()"
   ]
  },
  {
   "cell_type": "code",
   "execution_count": null,
   "metadata": {},
   "outputs": [],
   "source": [
    "target_nod = bankdf['class' ]\n",
    "target_nod.head()"
   ]
  },
  {
   "cell_type": "code",
   "execution_count": null,
   "metadata": {},
   "outputs": [],
   "source": [
    "# Building Models"
   ]
  },
  {
   "cell_type": "code",
   "execution_count": null,
   "metadata": {},
   "outputs": [],
   "source": [
    "In terms of modelling perspective, the business goal is to define a predictive model involving binary classification of customers into 2 categories – \n",
    "\n",
    "1) Customers that might open term deposit account with the bank after the campaign.\n",
    "\n",
    "2) Customers that will not open term deposit account with the bank.\n",
    "\n",
    "This classification really helps banks to identify the customers that they can concentrate their campaigning resources on such that it gives them maximum chance to succeed in their campaign resulting in more term deposit accounts (indirectly increasing their program’s success rate).  \n"
   ]
  },
  {
   "cell_type": "code",
   "execution_count": null,
   "metadata": {},
   "outputs": [],
   "source": [
    "# Why Random Forest?"
   ]
  },
  {
   "cell_type": "code",
   "execution_count": null,
   "metadata": {},
   "outputs": [],
   "source": [
    "\n",
    "Random Forest is an ensemble of decision trees.\n",
    "\n",
    "1) To begin with, our data has unbalanced classes and Random Forest handles unbalanced data well by minimizing the overall error rate.\n",
    "\n",
    "2) At each random split of decision tree, the model picks random subset of features, which reduces the correlation between the features selected improving the variance of the model.\n",
    "\n",
    "3) Random Forest is not affected with the presence of outliers and non- linear data. In the exploratory data analysis, we have observed that the variable ‘balance’ has outliers. By selecting Random Forest, the presence of outliers is negated.\n"
   ]
  },
  {
   "cell_type": "code",
   "execution_count": null,
   "metadata": {},
   "outputs": [],
   "source": [
    "X_train, X_test, y_train, y_test = train_test_split(features, target, test_size = 0.25, random_state = 1)"
   ]
  },
  {
   "cell_type": "code",
   "execution_count": null,
   "metadata": {},
   "outputs": [],
   "source": [
    "print(X_train.shape)\n",
    "print(y_train.shape)\n",
    "\n",
    "\n",
    "print(X_test.shape)\n",
    "print(y_test.shape)"
   ]
  },
  {
   "cell_type": "code",
   "execution_count": null,
   "metadata": {},
   "outputs": [],
   "source": [
    "Creating Base model with 200 estimators (number of trees), class weight = balanced.\n"
   ]
  },
  {
   "cell_type": "code",
   "execution_count": null,
   "metadata": {},
   "outputs": [],
   "source": [
    "# Create random forest classifier object\n",
    "randomforest = RandomForestClassifier(random_state=1,           # for consistent results\n",
    "                                      n_estimators = 200,       # number of tress in forest\n",
    "                                      oob_score=True,           # OOB Score to get performance\n",
    "                                      bootstrap=True, \n",
    "                                      n_jobs=-1,                # for using all cores\n",
    "                                      class_weight=\"balanced\"   # for handling imbalanced classes\n",
    "                                     ) \n",
    "# Train model\n",
    "basemodel = randomforest.fit(X_train, y_train)"
   ]
  },
  {
   "cell_type": "code",
   "execution_count": null,
   "metadata": {},
   "outputs": [],
   "source": [
    "# Calculate feature importances\n",
    "importances = basemodel.feature_importances_\n",
    "importances"
   ]
  },
  {
   "cell_type": "code",
   "execution_count": null,
   "metadata": {},
   "outputs": [],
   "source": [
    "# Sort feature importances in descending order\n",
    "indices = np.argsort(importances)[::-1]\n",
    "indices"
   ]
  },
  {
   "cell_type": "code",
   "execution_count": null,
   "metadata": {},
   "outputs": [],
   "source": [
    "# Rearrange feature names so they match the sorted feature importances\n",
    "names = [X_train.columns[i] for i in indices]\n",
    "print(names)"
   ]
  },
  {
   "cell_type": "code",
   "execution_count": null,
   "metadata": {},
   "outputs": [],
   "source": [
    "# View out-of-bag-error\n",
    "randomforest.oob_score_\n",
    "# 0.9025303763123746 for 200 estimators"
   ]
  },
  {
   "cell_type": "code",
   "execution_count": null,
   "metadata": {},
   "outputs": [],
   "source": [
    "# Predicting the target variable - class\n",
    "y_pred = basemodel.predict(X_test)"
   ]
  },
  {
   "cell_type": "code",
   "execution_count": null,
   "metadata": {},
   "outputs": [],
   "source": [
    "# Get predicted probabilities\n",
    "y_prob = basemodel.predict_proba(X_test)[:,1]"
   ]
  },
  {
   "cell_type": "code",
   "execution_count": null,
   "metadata": {},
   "outputs": [],
   "source": [
    "basemodel.predict_proba(X_test)[:,1]"
   ]
  },
  {
   "cell_type": "code",
   "execution_count": null,
   "metadata": {},
   "outputs": [],
   "source": [
    "#basemodel.predict_proba(X_test)"
   ]
  },
  {
   "cell_type": "code",
   "execution_count": null,
   "metadata": {},
   "outputs": [],
   "source": [
    "# Model Evaluation"
   ]
  },
  {
   "cell_type": "code",
   "execution_count": null,
   "metadata": {},
   "outputs": [],
   "source": [
    "# Get accuracy score\n",
    "randomforest.score(X_test, y_test)"
   ]
  },
  {
   "cell_type": "code",
   "execution_count": null,
   "metadata": {},
   "outputs": [],
   "source": [
    "# Create confusion matrix\n",
    "matrix = confusion_matrix(y_test, y_pred)\n",
    "matrix"
   ]
  },
  {
   "cell_type": "code",
   "execution_count": null,
   "metadata": {},
   "outputs": [],
   "source": [
    "# Create pandas dataframe\n",
    "dataframe = pd.DataFrame(matrix) #, index=class_names, columns=class_names)\n",
    "\n",
    "\n",
    "# Create heatmap\n",
    "plt.figure(figsize=(8, 6))\n",
    "sns.heatmap(dataframe, annot=True, cbar=None, cmap=\"Blues\")\n",
    "plt.title(\"Confusion Matrix\") \n",
    "plt.tight_layout()\n",
    "plt.xlabel(\"Predicted Class\", fontdict=labelfont)\n",
    "plt.ylabel(\"True Class\", fontdict=labelfont)\n",
    "\n",
    "plt.xticks(rotation=45)\n",
    "plt.title(\"Confusion Matrix\" , fontdict=titlefont , color='r' )\n",
    "plt.show()"
   ]
  },
  {
   "cell_type": "code",
   "execution_count": null,
   "metadata": {},
   "outputs": [],
   "source": [
    "# printing classification report\n",
    "print(classification_report(y_test, y_pred))"
   ]
  },
  {
   "cell_type": "code",
   "execution_count": null,
   "metadata": {},
   "outputs": [],
   "source": [
    "def fn_multiclass_metrics(actual_label, predicted_label):\n",
    "    \"\"\"\n",
    "    function that takes acutal labels and predicted labels and returns\n",
    "    accuracy, auc, precision, recall and f1 scores\n",
    "    average = 'weighted' for multi class classification\n",
    "    \"\"\"\n",
    "    accuracy = accuracy_score(actual_label, predicted_label)\n",
    "    precision = precision_score(actual_label, predicted_label, average = 'weighted')\n",
    "    recall = recall_score(actual_label, predicted_label, average = 'weighted')\n",
    "    f1 = f1_score(actual_label, predicted_label, average = 'weighted')\n",
    "\n",
    "    return (accuracy, precision, recall, f1)"
   ]
  },
  {
   "cell_type": "code",
   "execution_count": null,
   "metadata": {},
   "outputs": [],
   "source": [
    "acc, prec, recall, f1 = fn_multiclass_metrics(y_test, y_pred)\n",
    "\n",
    "acc, prec, recall, f1\n"
   ]
  },
  {
   "cell_type": "code",
   "execution_count": null,
   "metadata": {},
   "outputs": [],
   "source": [
    "basemodel.get_params"
   ]
  },
  {
   "cell_type": "code",
   "execution_count": null,
   "metadata": {},
   "outputs": [],
   "source": []
  },
  {
   "cell_type": "code",
   "execution_count": null,
   "metadata": {},
   "outputs": [],
   "source": [
    "As it is a binary classification problem AOC Curve would be a good evaluation metric\n"
   ]
  },
  {
   "cell_type": "code",
   "execution_count": null,
   "metadata": {},
   "outputs": [],
   "source": [
    "false_positive_rate, true_positive_rate, thresholds = roc_curve(y_test, y_prob)\n",
    "false_positive_rate, true_positive_rate, thresholds "
   ]
  },
  {
   "cell_type": "code",
   "execution_count": null,
   "metadata": {},
   "outputs": [],
   "source": [
    "roc_auc = auc(false_positive_rate, true_positive_rate)\n",
    "roc_auc"
   ]
  },
  {
   "cell_type": "code",
   "execution_count": null,
   "metadata": {},
   "outputs": [],
   "source": [
    "def plotroc(false_positive_rate, true_positive_rate):\n",
    "\n",
    "    \"\"\"\n",
    "    A function that takes false positive rate and true positive rate for plotting ROC curve\n",
    "    Returns: none\n",
    "    Expected o/p: ROC plot\n",
    "    \"\"\"\n",
    "\n",
    "    # Plot ROC curve\n",
    "    plt.figure(figsize=(12, 8))\n",
    "    plt.title(\"Receiver Operating Characteristic\", fontdict=titlefont , color='r' )\n",
    "    plt.plot(false_positive_rate, true_positive_rate,  label='ROC curve (area = %0.2f)' % roc_auc)\n",
    "    plt.plot([0, 1], ls=\"--\")\n",
    "    plt.plot([0, 0], [1, 0] , c=\".7\"), plt.plot([1, 1] , c=\".7\")\n",
    "    plt.ylabel(\"True Positive Rate\" , fontdict=labelfont)\n",
    "    plt.xlabel(\"False Positive Rate\", fontdict=labelfont)\n",
    "    plt.legend(loc=\"lower right\")\n",
    "    plt.show()"
   ]
  },
  {
   "cell_type": "code",
   "execution_count": null,
   "metadata": {},
   "outputs": [],
   "source": [
    "# Plot ROC curve\n",
    "plotroc(false_positive_rate, true_positive_rate)"
   ]
  },
  {
   "cell_type": "code",
   "execution_count": null,
   "metadata": {},
   "outputs": [],
   "source": [
    "AUC of 0.93172, indicates that there is 94% chance the model separates between positive class and negative class.\n",
    "\n",
    "Let us see if it can be further improved with some model tuning. "
   ]
  },
  {
   "cell_type": "code",
   "execution_count": null,
   "metadata": {},
   "outputs": [],
   "source": [
    "# Calculate area under curve\n",
    "roc_auc_score(y_test, y_prob)"
   ]
  },
  {
   "cell_type": "code",
   "execution_count": null,
   "metadata": {},
   "outputs": [],
   "source": [
    "# Model Tuning"
   ]
  },
  {
   "cell_type": "code",
   "execution_count": null,
   "metadata": {},
   "outputs": [],
   "source": [
    "Using GridSearchCV which tries every combination of parameter given in the parameter grid, we can find out the best parameters.  Though we might get better accuracy with this approach, it could lot of time to search through all parameters. So, we need to be cautious consider the tradeoff between performance and accuracy before defining the parameters for GridSearchCV.\n"
   ]
  },
  {
   "cell_type": "code",
   "execution_count": null,
   "metadata": {},
   "outputs": [],
   "source": [
    "import datetime\n",
    "now = datetime.datetime.now()\n",
    "\n",
    "print()\n",
    "def personal_details():\n",
    "    name, age = \"Rahul Gupta\", 680\n",
    "    address = \"Fadi Alsaleem\"\n",
    "    print(\"Student Name: {}\\nCourse: {}\\nInstructor: {}\".format(name, age, address))\n",
    "\n",
    "personal_details()\n",
    "\n",
    "print()\n",
    "print (\"Current date and time : \")\n",
    "print (now.strftime(\"%Y-%m-%d %H:%M:%S\"))\n",
    "\n",
    "# Create the parameter grid based on the results of random search \n",
    "param_grid = {\n",
    "    'n_estimators': [100, 250, 500, 1000, 2000],\n",
    "    \"criterion\": [\"gini\", \"entropy\"],\n",
    "     }\n",
    "\n",
    "# Create a default rf model\n",
    "rf = RandomForestClassifier(random_state=1,           # for consistent results\n",
    "                                      oob_score=True,           # OOB Score to get performance\n",
    "                                      bootstrap=True, \n",
    "                                      n_jobs=-1,                # for using all cores\n",
    "                                      class_weight=\"balanced\" )\n",
    "# Instantiate the grid search model\n",
    "grid_search = GridSearchCV(estimator = rf, param_grid = param_grid, \n",
    "                          cv = 3, n_jobs = -1, verbose = 2)"
   ]
  },
  {
   "cell_type": "code",
   "execution_count": null,
   "metadata": {},
   "outputs": [],
   "source": [
    "# Fit the grid search to the data\n",
    "grid_search.fit(X_train, y_train)\n",
    "grid_search.best_params_"
   ]
  },
  {
   "cell_type": "code",
   "execution_count": null,
   "metadata": {},
   "outputs": [],
   "source": [
    "best_grid = grid_search.best_estimator_\n",
    "print(best_grid)"
   ]
  },
  {
   "cell_type": "code",
   "execution_count": null,
   "metadata": {},
   "outputs": [],
   "source": [
    "def evaluate(model, X_test, y_test):\n",
    "    \n",
    "    \"\"\"\n",
    "    function that takes model, test features and test labels \n",
    "    prints the model performance metrics\n",
    "    returns none\n",
    "    \n",
    "    \"\"\"\n",
    "    print(\"\\n Metrics for model with below parameters :\\n\")\n",
    "    print(model.get_params)\n",
    "    \n",
    "    # Predicting the target variable - class\n",
    "    y_pred = model.predict(X_test)\n",
    "    \n",
    "    # Get accuracy score\n",
    "    print(\"\\n Model score :\\n\")\n",
    "    print(model.score(X_test, y_test))\n",
    "    \n",
    "    acc, prec, recall, f1 = fn_multiclass_metrics(y_test, y_pred)\n",
    "    \n",
    "    # printing classification report\n",
    "    print(\"\\n Classification Report :\\n\")\n",
    "    print(classification_report(y_test, y_pred))\n",
    "    \n",
    "    \n",
    "    false_positive_rate, true_positive_rate, thresholds = roc_curve(y_test, y_prob)\n",
    "    #print( \"false_positive_rate, true_positive_rate, thresholds : \" )\n",
    "    plotroc(false_positive_rate, true_positive_rate)\n",
    "    \n",
    "    \n",
    "    roc_auc = auc(false_positive_rate, true_positive_rate)\n",
    "    print(\"\\n ROC AUC :\")\n",
    "    print(roc_auc)\n",
    "    \n",
    "\n",
    "    \n",
    "    return "
   ]
  },
  {
   "cell_type": "code",
   "execution_count": null,
   "metadata": {},
   "outputs": [],
   "source": [
    "grid_accuracy = evaluate(best_grid, X_test, y_test)\n",
    "\n",
    "#print('Improvement of {:0.2f}%.'.format( 100 * (grid_accuracy - base_accuracy) / base_accuracy))"
   ]
  },
  {
   "cell_type": "code",
   "execution_count": null,
   "metadata": {},
   "outputs": [],
   "source": [
    "base_accuracy = evaluate(basemodel,  X_test, y_test)"
   ]
  },
  {
   "cell_type": "code",
   "execution_count": null,
   "metadata": {},
   "outputs": [],
   "source": [
    "# Model Deployment"
   ]
  },
  {
   "cell_type": "code",
   "execution_count": null,
   "metadata": {},
   "outputs": [],
   "source": [
    "Once best parameters are obtained through proper tuning new model is created with the best parameters \n",
    "\n",
    "Deploying a machine learning model, known as model deployment, simply means to integrate a machine learning model and integrate it into an existing production environment (1) where it can take in an input and return an output."
   ]
  },
  {
   "cell_type": "code",
   "execution_count": null,
   "metadata": {},
   "outputs": [],
   "source": [
    "print(best_grid)"
   ]
  },
  {
   "cell_type": "code",
   "execution_count": null,
   "metadata": {},
   "outputs": [],
   "source": [
    "Create the model with best parameters obtained from  tuning.\n",
    "\n",
    "Save the model using joblib module as a pickle.\n",
    "\n",
    "Deploy the pickle on the server and use it for fitting new unseen data.\n"
   ]
  },
  {
   "cell_type": "code",
   "execution_count": null,
   "metadata": {},
   "outputs": [],
   "source": [
    "# Create random forest classifier object\n",
    "bestmodel = RandomForestClassifier(random_state=1,           # for consistent results\n",
    "                                      n_estimators = 2000,       # number of tress in forest\n",
    "                                      oob_score=True,           # OOB Score to get performance\n",
    "                                      bootstrap=True, \n",
    "                                      n_jobs=-1,                # for using all cores\n",
    "                                      class_weight=\"balanced\",   # for handling imbalanced classes\n",
    "                                      criterion='entropy'\n",
    "                                     ) \n"
   ]
  },
  {
   "cell_type": "code",
   "execution_count": null,
   "metadata": {},
   "outputs": [],
   "source": [
    "# Save the model as a pickle in a file \n",
    "joblib.dump(bestmodel, 'Model\\\\bestmodel.pkl') "
   ]
  },
  {
   "cell_type": "code",
   "execution_count": null,
   "metadata": {},
   "outputs": [],
   "source": [
    "# Load the model from the file \n",
    "tunedmodel_from_joblib = joblib.load('Model\\\\bestmodel.pkl') \n"
   ]
  },
  {
   "cell_type": "code",
   "execution_count": null,
   "metadata": {},
   "outputs": [],
   "source": [
    "# Fitting deployed model on new data ( assume here X_train and y_train are new unseen features and targets)\n",
    "deployed_model = tunedmodel_from_joblib.fit(X_train, y_train)"
   ]
  },
  {
   "cell_type": "code",
   "execution_count": null,
   "metadata": {},
   "outputs": [],
   "source": [
    "# Conclusion"
   ]
  },
  {
   "cell_type": "code",
   "execution_count": null,
   "metadata": {},
   "outputs": [],
   "source": [
    "To conclude using the Random Forest Classifier algorithm and hyper tuning it further using either GridSearchCV or RandomSearchCV, we should be able to determine whether or not the consumer would subscribe to the term deposit service in an effective manner. Next step is to see how the efficiency of the model can be further enhanced by using Deep Learning and Neural Networks"
   ]
  },
  {
   "cell_type": "code",
   "execution_count": null,
   "metadata": {},
   "outputs": [],
   "source": []
  },
  {
   "cell_type": "code",
   "execution_count": null,
   "metadata": {},
   "outputs": [],
   "source": []
  },
  {
   "cell_type": "code",
   "execution_count": null,
   "metadata": {},
   "outputs": [],
   "source": []
  },
  {
   "cell_type": "code",
   "execution_count": null,
   "metadata": {},
   "outputs": [],
   "source": []
  }
 ],
 "metadata": {
  "kernelspec": {
   "display_name": "Python 3",
   "language": "python",
   "name": "python3"
  },
  "language_info": {
   "codemirror_mode": {
    "name": "ipython",
    "version": 3
   },
   "file_extension": ".py",
   "mimetype": "text/x-python",
   "name": "python",
   "nbconvert_exporter": "python",
   "pygments_lexer": "ipython3",
   "version": "3.6.8"
  }
 },
 "nbformat": 4,
 "nbformat_minor": 4
}
